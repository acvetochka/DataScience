{
 "cells": [
  {
   "cell_type": "markdown",
   "id": "ded60bc5-5bde-42af-9ace-6435e5bda10e",
   "metadata": {
    "tags": []
   },
   "source": [
    "# Data Science Tools and Ecosystem"
   ]
  },
  {
   "cell_type": "markdown",
   "id": "75228d13-5192-4976-bb5d-6b12fb38a229",
   "metadata": {},
   "source": [
    "In this notebook, Data Science Tools and Ecosystem are summarized."
   ]
  },
  {
   "cell_type": "markdown",
   "id": "8c4af226-1a9f-4f37-87e8-29571c5a151c",
   "metadata": {},
   "source": [
    "Some of the popular languages that Data Scientists use are:\n",
    "1. Python\n",
    "2. R\n",
    "3. SQL\n",
    "4. Scala"
   ]
  },
  {
   "cell_type": "markdown",
   "id": "0cf47e90-7fee-4f20-85b7-8a0941aa700a",
   "metadata": {},
   "source": [
    "Some of the commonly used libraries used by Data Scientists include:\n",
    "1. Pandas\n",
    "2. NumPy\n",
    "3. matplotlib\n",
    "4. ggplot2"
   ]
  },
  {
   "cell_type": "markdown",
   "id": "ffbc6248-0e32-4f00-a607-658a90c5e10a",
   "metadata": {},
   "source": [
    "| Data Science Tools |\n",
    "| ------------------ |\n",
    "| Jupyter Notebook   |\n",
    "| RStudio            |\n",
    "| VS Code            |"
   ]
  },
  {
   "cell_type": "markdown",
   "id": "f427f896-bbd1-4ad2-b819-37a16d75358e",
   "metadata": {},
   "source": [
    "### Below are a few examples of evaluating arithmetic expressions in Python"
   ]
  },
  {
   "cell_type": "markdown",
   "id": "10fda4b0-cd2c-4fd2-8ec3-0eb7ff9a2b3e",
   "metadata": {},
   "source": [
    "This a simple arithmetic expression to mutiply then add integers"
   ]
  },
  {
   "cell_type": "code",
   "execution_count": 3,
   "id": "81800fd6-33db-4777-b033-11d41bbcd4e0",
   "metadata": {
    "tags": []
   },
   "outputs": [
    {
     "data": {
      "text/plain": [
       "17"
      ]
     },
     "execution_count": 3,
     "metadata": {},
     "output_type": "execute_result"
    }
   ],
   "source": [
    "(3*4)+5"
   ]
  },
  {
   "cell_type": "markdown",
   "id": "8d413b41-ac2f-4b34-a97e-f8bc79edbff9",
   "metadata": {},
   "source": [
    " This will convert 200 minutes to hours by diving by 60"
   ]
  },
  {
   "cell_type": "code",
   "execution_count": 4,
   "id": "a017a038-738a-4203-be7a-4c9a5dd07470",
   "metadata": {
    "tags": []
   },
   "outputs": [
    {
     "data": {
      "text/plain": [
       "3.3333333333333335"
      ]
     },
     "execution_count": 4,
     "metadata": {},
     "output_type": "execute_result"
    }
   ],
   "source": [
    "200/60"
   ]
  },
  {
   "cell_type": "markdown",
   "id": "81fd29ee-9a90-483c-b632-78ec3b012dae",
   "metadata": {},
   "source": [
    "**Objectives:**\n",
    "- List popular languages for Data Science.\n",
    "- Identify commonly used libraries in Data Science.\n",
    "- Understand the role of various open-source tools for Data Science.\n",
    "- Demonstrate basic arithmetic expressions in Python.\n",
    "- Convert time units from minutes to hours using Python."
   ]
  },
  {
   "cell_type": "markdown",
   "id": "80f2743e-cc1a-4e0b-b452-ed565fe93a82",
   "metadata": {
    "tags": []
   },
   "source": [
    "## Author\n",
    "Alona Kuznietsova"
   ]
  },
  {
   "cell_type": "code",
   "execution_count": null,
   "id": "93b88afd-23ae-4b9a-84c5-1aaf8b594b42",
   "metadata": {},
   "outputs": [],
   "source": []
  }
 ],
 "metadata": {
  "kernelspec": {
   "display_name": "Python",
   "language": "python",
   "name": "conda-env-python-py"
  },
  "language_info": {
   "codemirror_mode": {
    "name": "ipython",
    "version": 3
   },
   "file_extension": ".py",
   "mimetype": "text/x-python",
   "name": "python",
   "nbconvert_exporter": "python",
   "pygments_lexer": "ipython3",
   "version": "3.7.12"
  }
 },
 "nbformat": 4,
 "nbformat_minor": 5
}
